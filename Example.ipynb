{
 "cells": [
  {
   "cell_type": "code",
   "execution_count": 1,
   "id": "db1626ae",
   "metadata": {},
   "outputs": [],
   "source": [
    "import pandas as pd"
   ]
  },
  {
   "cell_type": "code",
   "execution_count": 2,
   "id": "f92f35bc",
   "metadata": {},
   "outputs": [],
   "source": [
    "#Reading the csv file\n",
    "\n",
    "df_population_raw = pd.read_csv('population_total.csv')"
   ]
  },
  {
   "cell_type": "code",
   "execution_count": 3,
   "id": "693699e8",
   "metadata": {},
   "outputs": [
    {
     "data": {
      "text/html": [
       "<div>\n",
       "<style scoped>\n",
       "    .dataframe tbody tr th:only-of-type {\n",
       "        vertical-align: middle;\n",
       "    }\n",
       "\n",
       "    .dataframe tbody tr th {\n",
       "        vertical-align: top;\n",
       "    }\n",
       "\n",
       "    .dataframe thead th {\n",
       "        text-align: right;\n",
       "    }\n",
       "</style>\n",
       "<table border=\"1\" class=\"dataframe\">\n",
       "  <thead>\n",
       "    <tr style=\"text-align: right;\">\n",
       "      <th></th>\n",
       "      <th>country</th>\n",
       "      <th>year</th>\n",
       "      <th>population</th>\n",
       "    </tr>\n",
       "  </thead>\n",
       "  <tbody>\n",
       "    <tr>\n",
       "      <th>0</th>\n",
       "      <td>China</td>\n",
       "      <td>2020.0</td>\n",
       "      <td>1.439324e+09</td>\n",
       "    </tr>\n",
       "    <tr>\n",
       "      <th>1</th>\n",
       "      <td>China</td>\n",
       "      <td>2019.0</td>\n",
       "      <td>1.433784e+09</td>\n",
       "    </tr>\n",
       "    <tr>\n",
       "      <th>2</th>\n",
       "      <td>China</td>\n",
       "      <td>2018.0</td>\n",
       "      <td>1.427648e+09</td>\n",
       "    </tr>\n",
       "    <tr>\n",
       "      <th>3</th>\n",
       "      <td>China</td>\n",
       "      <td>2017.0</td>\n",
       "      <td>1.421022e+09</td>\n",
       "    </tr>\n",
       "    <tr>\n",
       "      <th>4</th>\n",
       "      <td>China</td>\n",
       "      <td>2016.0</td>\n",
       "      <td>1.414049e+09</td>\n",
       "    </tr>\n",
       "    <tr>\n",
       "      <th>...</th>\n",
       "      <td>...</td>\n",
       "      <td>...</td>\n",
       "      <td>...</td>\n",
       "    </tr>\n",
       "    <tr>\n",
       "      <th>4180</th>\n",
       "      <td>United States</td>\n",
       "      <td>1965.0</td>\n",
       "      <td>1.997337e+08</td>\n",
       "    </tr>\n",
       "    <tr>\n",
       "      <th>4181</th>\n",
       "      <td>United States</td>\n",
       "      <td>1960.0</td>\n",
       "      <td>1.867206e+08</td>\n",
       "    </tr>\n",
       "    <tr>\n",
       "      <th>4182</th>\n",
       "      <td>United States</td>\n",
       "      <td>1955.0</td>\n",
       "      <td>1.716853e+08</td>\n",
       "    </tr>\n",
       "    <tr>\n",
       "      <th>4183</th>\n",
       "      <td>India</td>\n",
       "      <td>1960.0</td>\n",
       "      <td>4.505477e+08</td>\n",
       "    </tr>\n",
       "    <tr>\n",
       "      <th>4184</th>\n",
       "      <td>India</td>\n",
       "      <td>1955.0</td>\n",
       "      <td>4.098806e+08</td>\n",
       "    </tr>\n",
       "  </tbody>\n",
       "</table>\n",
       "<p>4185 rows × 3 columns</p>\n",
       "</div>"
      ],
      "text/plain": [
       "            country    year    population\n",
       "0             China  2020.0  1.439324e+09\n",
       "1             China  2019.0  1.433784e+09\n",
       "2             China  2018.0  1.427648e+09\n",
       "3             China  2017.0  1.421022e+09\n",
       "4             China  2016.0  1.414049e+09\n",
       "...             ...     ...           ...\n",
       "4180  United States  1965.0  1.997337e+08\n",
       "4181  United States  1960.0  1.867206e+08\n",
       "4182  United States  1955.0  1.716853e+08\n",
       "4183          India  1960.0  4.505477e+08\n",
       "4184          India  1955.0  4.098806e+08\n",
       "\n",
       "[4185 rows x 3 columns]"
      ]
     },
     "execution_count": 3,
     "metadata": {},
     "output_type": "execute_result"
    }
   ],
   "source": [
    "#first look to the dataset\n",
    "df_population_raw"
   ]
  },
  {
   "cell_type": "code",
   "execution_count": 4,
   "id": "1b3eb0cb",
   "metadata": {},
   "outputs": [],
   "source": [
    "# Dropping null values\n",
    "\n",
    "df_population_raw.dropna(inplace = True)"
   ]
  },
  {
   "cell_type": "code",
   "execution_count": 5,
   "id": "2c37e5cd",
   "metadata": {},
   "outputs": [],
   "source": [
    "#Select pivot table\n",
    "\n",
    "df_pivot = df_population_raw.pivot(index= 'year', columns='country', values='population')"
   ]
  },
  {
   "cell_type": "code",
   "execution_count": 6,
   "id": "1b79c708",
   "metadata": {},
   "outputs": [],
   "source": [
    "# Select some countries\n",
    "\n",
    "df_pivot = df_pivot[['United States', 'India', 'China', 'Indonesia', 'Brazil']]"
   ]
  },
  {
   "cell_type": "code",
   "execution_count": 7,
   "id": "021c5c71",
   "metadata": {},
   "outputs": [
    {
     "data": {
      "text/html": [
       "<div>\n",
       "<style scoped>\n",
       "    .dataframe tbody tr th:only-of-type {\n",
       "        vertical-align: middle;\n",
       "    }\n",
       "\n",
       "    .dataframe tbody tr th {\n",
       "        vertical-align: top;\n",
       "    }\n",
       "\n",
       "    .dataframe thead th {\n",
       "        text-align: right;\n",
       "    }\n",
       "</style>\n",
       "<table border=\"1\" class=\"dataframe\">\n",
       "  <thead>\n",
       "    <tr style=\"text-align: right;\">\n",
       "      <th>country</th>\n",
       "      <th>United States</th>\n",
       "      <th>India</th>\n",
       "      <th>China</th>\n",
       "      <th>Indonesia</th>\n",
       "      <th>Brazil</th>\n",
       "    </tr>\n",
       "    <tr>\n",
       "      <th>year</th>\n",
       "      <th></th>\n",
       "      <th></th>\n",
       "      <th></th>\n",
       "      <th></th>\n",
       "      <th></th>\n",
       "    </tr>\n",
       "  </thead>\n",
       "  <tbody>\n",
       "    <tr>\n",
       "      <th>1955.0</th>\n",
       "      <td>171685336.0</td>\n",
       "      <td>4.098806e+08</td>\n",
       "      <td>6.122416e+08</td>\n",
       "      <td>77273425.0</td>\n",
       "      <td>62533919.0</td>\n",
       "    </tr>\n",
       "    <tr>\n",
       "      <th>1960.0</th>\n",
       "      <td>186720571.0</td>\n",
       "      <td>4.505477e+08</td>\n",
       "      <td>6.604081e+08</td>\n",
       "      <td>87751068.0</td>\n",
       "      <td>72179226.0</td>\n",
       "    </tr>\n",
       "    <tr>\n",
       "      <th>1965.0</th>\n",
       "      <td>199733676.0</td>\n",
       "      <td>4.991233e+08</td>\n",
       "      <td>7.242190e+08</td>\n",
       "      <td>100267062.0</td>\n",
       "      <td>83373530.0</td>\n",
       "    </tr>\n",
       "    <tr>\n",
       "      <th>1970.0</th>\n",
       "      <td>209513341.0</td>\n",
       "      <td>5.551898e+08</td>\n",
       "      <td>8.276014e+08</td>\n",
       "      <td>114793178.0</td>\n",
       "      <td>95113265.0</td>\n",
       "    </tr>\n",
       "    <tr>\n",
       "      <th>1975.0</th>\n",
       "      <td>219081251.0</td>\n",
       "      <td>6.231029e+08</td>\n",
       "      <td>9.262409e+08</td>\n",
       "      <td>130680727.0</td>\n",
       "      <td>107216205.0</td>\n",
       "    </tr>\n",
       "    <tr>\n",
       "      <th>1980.0</th>\n",
       "      <td>229476354.0</td>\n",
       "      <td>6.989528e+08</td>\n",
       "      <td>1.000089e+09</td>\n",
       "      <td>147447836.0</td>\n",
       "      <td>120694009.0</td>\n",
       "    </tr>\n",
       "    <tr>\n",
       "      <th>1985.0</th>\n",
       "      <td>240499825.0</td>\n",
       "      <td>7.843600e+08</td>\n",
       "      <td>1.075589e+09</td>\n",
       "      <td>164982451.0</td>\n",
       "      <td>135274080.0</td>\n",
       "    </tr>\n",
       "    <tr>\n",
       "      <th>1990.0</th>\n",
       "      <td>252120309.0</td>\n",
       "      <td>8.732778e+08</td>\n",
       "      <td>1.176884e+09</td>\n",
       "      <td>181413402.0</td>\n",
       "      <td>149003223.0</td>\n",
       "    </tr>\n",
       "    <tr>\n",
       "      <th>1995.0</th>\n",
       "      <td>265163745.0</td>\n",
       "      <td>9.639226e+08</td>\n",
       "      <td>1.240921e+09</td>\n",
       "      <td>196934260.0</td>\n",
       "      <td>162019896.0</td>\n",
       "    </tr>\n",
       "    <tr>\n",
       "      <th>2000.0</th>\n",
       "      <td>281710909.0</td>\n",
       "      <td>1.056576e+09</td>\n",
       "      <td>1.290551e+09</td>\n",
       "      <td>211513823.0</td>\n",
       "      <td>174790340.0</td>\n",
       "    </tr>\n",
       "    <tr>\n",
       "      <th>2005.0</th>\n",
       "      <td>294993511.0</td>\n",
       "      <td>1.147610e+09</td>\n",
       "      <td>1.330776e+09</td>\n",
       "      <td>226289470.0</td>\n",
       "      <td>186127103.0</td>\n",
       "    </tr>\n",
       "    <tr>\n",
       "      <th>2010.0</th>\n",
       "      <td>309011475.0</td>\n",
       "      <td>1.234281e+09</td>\n",
       "      <td>1.368811e+09</td>\n",
       "      <td>241834215.0</td>\n",
       "      <td>195713635.0</td>\n",
       "    </tr>\n",
       "    <tr>\n",
       "      <th>2015.0</th>\n",
       "      <td>320878310.0</td>\n",
       "      <td>1.310152e+09</td>\n",
       "      <td>1.406848e+09</td>\n",
       "      <td>258383256.0</td>\n",
       "      <td>204471769.0</td>\n",
       "    </tr>\n",
       "    <tr>\n",
       "      <th>2016.0</th>\n",
       "      <td>323015995.0</td>\n",
       "      <td>1.324517e+09</td>\n",
       "      <td>1.414049e+09</td>\n",
       "      <td>261556381.0</td>\n",
       "      <td>206163053.0</td>\n",
       "    </tr>\n",
       "    <tr>\n",
       "      <th>2017.0</th>\n",
       "      <td>325084756.0</td>\n",
       "      <td>1.338677e+09</td>\n",
       "      <td>1.421022e+09</td>\n",
       "      <td>264650963.0</td>\n",
       "      <td>207833823.0</td>\n",
       "    </tr>\n",
       "    <tr>\n",
       "      <th>2018.0</th>\n",
       "      <td>327096265.0</td>\n",
       "      <td>1.352642e+09</td>\n",
       "      <td>1.427648e+09</td>\n",
       "      <td>267670543.0</td>\n",
       "      <td>209469323.0</td>\n",
       "    </tr>\n",
       "    <tr>\n",
       "      <th>2019.0</th>\n",
       "      <td>329064917.0</td>\n",
       "      <td>1.366418e+09</td>\n",
       "      <td>1.433784e+09</td>\n",
       "      <td>270625568.0</td>\n",
       "      <td>211049527.0</td>\n",
       "    </tr>\n",
       "    <tr>\n",
       "      <th>2020.0</th>\n",
       "      <td>331002651.0</td>\n",
       "      <td>1.380004e+09</td>\n",
       "      <td>1.439324e+09</td>\n",
       "      <td>273523615.0</td>\n",
       "      <td>212559417.0</td>\n",
       "    </tr>\n",
       "  </tbody>\n",
       "</table>\n",
       "</div>"
      ],
      "text/plain": [
       "country  United States         India         China    Indonesia       Brazil\n",
       "year                                                                        \n",
       "1955.0     171685336.0  4.098806e+08  6.122416e+08   77273425.0   62533919.0\n",
       "1960.0     186720571.0  4.505477e+08  6.604081e+08   87751068.0   72179226.0\n",
       "1965.0     199733676.0  4.991233e+08  7.242190e+08  100267062.0   83373530.0\n",
       "1970.0     209513341.0  5.551898e+08  8.276014e+08  114793178.0   95113265.0\n",
       "1975.0     219081251.0  6.231029e+08  9.262409e+08  130680727.0  107216205.0\n",
       "1980.0     229476354.0  6.989528e+08  1.000089e+09  147447836.0  120694009.0\n",
       "1985.0     240499825.0  7.843600e+08  1.075589e+09  164982451.0  135274080.0\n",
       "1990.0     252120309.0  8.732778e+08  1.176884e+09  181413402.0  149003223.0\n",
       "1995.0     265163745.0  9.639226e+08  1.240921e+09  196934260.0  162019896.0\n",
       "2000.0     281710909.0  1.056576e+09  1.290551e+09  211513823.0  174790340.0\n",
       "2005.0     294993511.0  1.147610e+09  1.330776e+09  226289470.0  186127103.0\n",
       "2010.0     309011475.0  1.234281e+09  1.368811e+09  241834215.0  195713635.0\n",
       "2015.0     320878310.0  1.310152e+09  1.406848e+09  258383256.0  204471769.0\n",
       "2016.0     323015995.0  1.324517e+09  1.414049e+09  261556381.0  206163053.0\n",
       "2017.0     325084756.0  1.338677e+09  1.421022e+09  264650963.0  207833823.0\n",
       "2018.0     327096265.0  1.352642e+09  1.427648e+09  267670543.0  209469323.0\n",
       "2019.0     329064917.0  1.366418e+09  1.433784e+09  270625568.0  211049527.0\n",
       "2020.0     331002651.0  1.380004e+09  1.439324e+09  273523615.0  212559417.0"
      ]
     },
     "execution_count": 7,
     "metadata": {},
     "output_type": "execute_result"
    }
   ],
   "source": [
    "# Showing the pivot table\n",
    "\n",
    "df_pivot"
   ]
  },
  {
   "cell_type": "markdown",
   "id": "08ee9536",
   "metadata": {},
   "source": [
    "## Lineplot"
   ]
  },
  {
   "cell_type": "code",
   "execution_count": 8,
   "id": "5831a8d0",
   "metadata": {},
   "outputs": [
    {
     "data": {
      "text/plain": [
       "<AxesSubplot:title={'center':'Population  (1955-2020)'}, xlabel='Year', ylabel='Population'>"
      ]
     },
     "execution_count": 8,
     "metadata": {},
     "output_type": "execute_result"
    },
    {
     "data": {
      "image/png": "[encoded data removed]",
      "text/plain": [
       "<Figure size 576x288 with 1 Axes>"
      ]
     },
     "metadata": {
      "needs_background": "light"
     },
     "output_type": "display_data"
    }
   ],
   "source": [
    "df_pivot.plot(kind='line', xlabel='Year', ylabel='Population', title= 'Population  (1955-2020)', figsize= (8, 4))"
   ]
  },
  {
   "cell_type": "markdown",
   "id": "4140102b",
   "metadata": {},
   "source": [
    "# Barplot"
   ]
  },
  {
   "cell_type": "code",
   "execution_count": 9,
   "id": "e4074915",
   "metadata": {},
   "outputs": [],
   "source": [
    "# Select only one year (2020)\n",
    "\n",
    "df_pivot_2020 = df_pivot[df_pivot.index.isin([2020])]"
   ]
  },
  {
   "cell_type": "code",
   "execution_count": 10,
   "id": "6a5ba105",
   "metadata": {},
   "outputs": [
    {
     "data": {
      "text/html": [
       "<div>\n",
       "<style scoped>\n",
       "    .dataframe tbody tr th:only-of-type {\n",
       "        vertical-align: middle;\n",
       "    }\n",
       "\n",
       "    .dataframe tbody tr th {\n",
       "        vertical-align: top;\n",
       "    }\n",
       "\n",
       "    .dataframe thead th {\n",
       "        text-align: right;\n",
       "    }\n",
       "</style>\n",
       "<table border=\"1\" class=\"dataframe\">\n",
       "  <thead>\n",
       "    <tr style=\"text-align: right;\">\n",
       "      <th>country</th>\n",
       "      <th>United States</th>\n",
       "      <th>India</th>\n",
       "      <th>China</th>\n",
       "      <th>Indonesia</th>\n",
       "      <th>Brazil</th>\n",
       "    </tr>\n",
       "    <tr>\n",
       "      <th>year</th>\n",
       "      <th></th>\n",
       "      <th></th>\n",
       "      <th></th>\n",
       "      <th></th>\n",
       "      <th></th>\n",
       "    </tr>\n",
       "  </thead>\n",
       "  <tbody>\n",
       "    <tr>\n",
       "      <th>2020.0</th>\n",
       "      <td>331002651.0</td>\n",
       "      <td>1.380004e+09</td>\n",
       "      <td>1.439324e+09</td>\n",
       "      <td>273523615.0</td>\n",
       "      <td>212559417.0</td>\n",
       "    </tr>\n",
       "  </tbody>\n",
       "</table>\n",
       "</div>"
      ],
      "text/plain": [
       "country  United States         India         China    Indonesia       Brazil\n",
       "year                                                                        \n",
       "2020.0     331002651.0  1.380004e+09  1.439324e+09  273523615.0  212559417.0"
      ]
     },
     "execution_count": 10,
     "metadata": {},
     "output_type": "execute_result"
    }
   ],
   "source": [
    "#Showing new dataframe\n",
    "\n",
    "df_pivot_2020"
   ]
  },
  {
   "cell_type": "code",
   "execution_count": 11,
   "id": "26fb6b7b",
   "metadata": {},
   "outputs": [],
   "source": [
    "#Traspase dataframe from rows to columns or viceversa\n",
    "\n",
    "df_pivot_2020 = df_pivot_2020.T"
   ]
  },
  {
   "cell_type": "code",
   "execution_count": 12,
   "id": "523027dc",
   "metadata": {},
   "outputs": [
    {
     "data": {
      "text/plain": [
       "<AxesSubplot:title={'center':'Population  2020'}, xlabel='Year', ylabel='Population'>"
      ]
     },
     "execution_count": 12,
     "metadata": {},
     "output_type": "execute_result"
    },
    {
     "data": {
      "image/png": "[encoded data removed]",
      "text/plain": [
       "<Figure size 432x288 with 1 Axes>"
      ]
     },
     "metadata": {
      "needs_background": "light"
     },
     "output_type": "display_data"
    }
   ],
   "source": [
    "#Making a barplot\n",
    "\n",
    "df_pivot_2020.plot(kind='bar', color= 'orange', xlabel='Year', ylabel='Population', title= 'Population  2020')"
   ]
  },
  {
   "cell_type": "markdown",
   "id": "899e9069",
   "metadata": {},
   "source": [
    "### Barplot grouped by \"n\" variables"
   ]
  },
  {
   "cell_type": "code",
   "execution_count": 13,
   "id": "2d3d1e49",
   "metadata": {},
   "outputs": [
    {
     "data": {
      "text/html": [
       "<div>\n",
       "<style scoped>\n",
       "    .dataframe tbody tr th:only-of-type {\n",
       "        vertical-align: middle;\n",
       "    }\n",
       "\n",
       "    .dataframe tbody tr th {\n",
       "        vertical-align: top;\n",
       "    }\n",
       "\n",
       "    .dataframe thead th {\n",
       "        text-align: right;\n",
       "    }\n",
       "</style>\n",
       "<table border=\"1\" class=\"dataframe\">\n",
       "  <thead>\n",
       "    <tr style=\"text-align: right;\">\n",
       "      <th>country</th>\n",
       "      <th>United States</th>\n",
       "      <th>India</th>\n",
       "      <th>China</th>\n",
       "      <th>Indonesia</th>\n",
       "      <th>Brazil</th>\n",
       "    </tr>\n",
       "    <tr>\n",
       "      <th>year</th>\n",
       "      <th></th>\n",
       "      <th></th>\n",
       "      <th></th>\n",
       "      <th></th>\n",
       "      <th></th>\n",
       "    </tr>\n",
       "  </thead>\n",
       "  <tbody>\n",
       "    <tr>\n",
       "      <th>1955.0</th>\n",
       "      <td>171685336.0</td>\n",
       "      <td>4.098806e+08</td>\n",
       "      <td>6.122416e+08</td>\n",
       "      <td>77273425.0</td>\n",
       "      <td>62533919.0</td>\n",
       "    </tr>\n",
       "    <tr>\n",
       "      <th>1960.0</th>\n",
       "      <td>186720571.0</td>\n",
       "      <td>4.505477e+08</td>\n",
       "      <td>6.604081e+08</td>\n",
       "      <td>87751068.0</td>\n",
       "      <td>72179226.0</td>\n",
       "    </tr>\n",
       "    <tr>\n",
       "      <th>1965.0</th>\n",
       "      <td>199733676.0</td>\n",
       "      <td>4.991233e+08</td>\n",
       "      <td>7.242190e+08</td>\n",
       "      <td>100267062.0</td>\n",
       "      <td>83373530.0</td>\n",
       "    </tr>\n",
       "    <tr>\n",
       "      <th>1970.0</th>\n",
       "      <td>209513341.0</td>\n",
       "      <td>5.551898e+08</td>\n",
       "      <td>8.276014e+08</td>\n",
       "      <td>114793178.0</td>\n",
       "      <td>95113265.0</td>\n",
       "    </tr>\n",
       "    <tr>\n",
       "      <th>1975.0</th>\n",
       "      <td>219081251.0</td>\n",
       "      <td>6.231029e+08</td>\n",
       "      <td>9.262409e+08</td>\n",
       "      <td>130680727.0</td>\n",
       "      <td>107216205.0</td>\n",
       "    </tr>\n",
       "    <tr>\n",
       "      <th>1980.0</th>\n",
       "      <td>229476354.0</td>\n",
       "      <td>6.989528e+08</td>\n",
       "      <td>1.000089e+09</td>\n",
       "      <td>147447836.0</td>\n",
       "      <td>120694009.0</td>\n",
       "    </tr>\n",
       "    <tr>\n",
       "      <th>1985.0</th>\n",
       "      <td>240499825.0</td>\n",
       "      <td>7.843600e+08</td>\n",
       "      <td>1.075589e+09</td>\n",
       "      <td>164982451.0</td>\n",
       "      <td>135274080.0</td>\n",
       "    </tr>\n",
       "    <tr>\n",
       "      <th>1990.0</th>\n",
       "      <td>252120309.0</td>\n",
       "      <td>8.732778e+08</td>\n",
       "      <td>1.176884e+09</td>\n",
       "      <td>181413402.0</td>\n",
       "      <td>149003223.0</td>\n",
       "    </tr>\n",
       "    <tr>\n",
       "      <th>1995.0</th>\n",
       "      <td>265163745.0</td>\n",
       "      <td>9.639226e+08</td>\n",
       "      <td>1.240921e+09</td>\n",
       "      <td>196934260.0</td>\n",
       "      <td>162019896.0</td>\n",
       "    </tr>\n",
       "    <tr>\n",
       "      <th>2000.0</th>\n",
       "      <td>281710909.0</td>\n",
       "      <td>1.056576e+09</td>\n",
       "      <td>1.290551e+09</td>\n",
       "      <td>211513823.0</td>\n",
       "      <td>174790340.0</td>\n",
       "    </tr>\n",
       "    <tr>\n",
       "      <th>2005.0</th>\n",
       "      <td>294993511.0</td>\n",
       "      <td>1.147610e+09</td>\n",
       "      <td>1.330776e+09</td>\n",
       "      <td>226289470.0</td>\n",
       "      <td>186127103.0</td>\n",
       "    </tr>\n",
       "    <tr>\n",
       "      <th>2010.0</th>\n",
       "      <td>309011475.0</td>\n",
       "      <td>1.234281e+09</td>\n",
       "      <td>1.368811e+09</td>\n",
       "      <td>241834215.0</td>\n",
       "      <td>195713635.0</td>\n",
       "    </tr>\n",
       "    <tr>\n",
       "      <th>2015.0</th>\n",
       "      <td>320878310.0</td>\n",
       "      <td>1.310152e+09</td>\n",
       "      <td>1.406848e+09</td>\n",
       "      <td>258383256.0</td>\n",
       "      <td>204471769.0</td>\n",
       "    </tr>\n",
       "    <tr>\n",
       "      <th>2016.0</th>\n",
       "      <td>323015995.0</td>\n",
       "      <td>1.324517e+09</td>\n",
       "      <td>1.414049e+09</td>\n",
       "      <td>261556381.0</td>\n",
       "      <td>206163053.0</td>\n",
       "    </tr>\n",
       "    <tr>\n",
       "      <th>2017.0</th>\n",
       "      <td>325084756.0</td>\n",
       "      <td>1.338677e+09</td>\n",
       "      <td>1.421022e+09</td>\n",
       "      <td>264650963.0</td>\n",
       "      <td>207833823.0</td>\n",
       "    </tr>\n",
       "    <tr>\n",
       "      <th>2018.0</th>\n",
       "      <td>327096265.0</td>\n",
       "      <td>1.352642e+09</td>\n",
       "      <td>1.427648e+09</td>\n",
       "      <td>267670543.0</td>\n",
       "      <td>209469323.0</td>\n",
       "    </tr>\n",
       "    <tr>\n",
       "      <th>2019.0</th>\n",
       "      <td>329064917.0</td>\n",
       "      <td>1.366418e+09</td>\n",
       "      <td>1.433784e+09</td>\n",
       "      <td>270625568.0</td>\n",
       "      <td>211049527.0</td>\n",
       "    </tr>\n",
       "    <tr>\n",
       "      <th>2020.0</th>\n",
       "      <td>331002651.0</td>\n",
       "      <td>1.380004e+09</td>\n",
       "      <td>1.439324e+09</td>\n",
       "      <td>273523615.0</td>\n",
       "      <td>212559417.0</td>\n",
       "    </tr>\n",
       "  </tbody>\n",
       "</table>\n",
       "</div>"
      ],
      "text/plain": [
       "country  United States         India         China    Indonesia       Brazil\n",
       "year                                                                        \n",
       "1955.0     171685336.0  4.098806e+08  6.122416e+08   77273425.0   62533919.0\n",
       "1960.0     186720571.0  4.505477e+08  6.604081e+08   87751068.0   72179226.0\n",
       "1965.0     199733676.0  4.991233e+08  7.242190e+08  100267062.0   83373530.0\n",
       "1970.0     209513341.0  5.551898e+08  8.276014e+08  114793178.0   95113265.0\n",
       "1975.0     219081251.0  6.231029e+08  9.262409e+08  130680727.0  107216205.0\n",
       "1980.0     229476354.0  6.989528e+08  1.000089e+09  147447836.0  120694009.0\n",
       "1985.0     240499825.0  7.843600e+08  1.075589e+09  164982451.0  135274080.0\n",
       "1990.0     252120309.0  8.732778e+08  1.176884e+09  181413402.0  149003223.0\n",
       "1995.0     265163745.0  9.639226e+08  1.240921e+09  196934260.0  162019896.0\n",
       "2000.0     281710909.0  1.056576e+09  1.290551e+09  211513823.0  174790340.0\n",
       "2005.0     294993511.0  1.147610e+09  1.330776e+09  226289470.0  186127103.0\n",
       "2010.0     309011475.0  1.234281e+09  1.368811e+09  241834215.0  195713635.0\n",
       "2015.0     320878310.0  1.310152e+09  1.406848e+09  258383256.0  204471769.0\n",
       "2016.0     323015995.0  1.324517e+09  1.414049e+09  261556381.0  206163053.0\n",
       "2017.0     325084756.0  1.338677e+09  1.421022e+09  264650963.0  207833823.0\n",
       "2018.0     327096265.0  1.352642e+09  1.427648e+09  267670543.0  209469323.0\n",
       "2019.0     329064917.0  1.366418e+09  1.433784e+09  270625568.0  211049527.0\n",
       "2020.0     331002651.0  1.380004e+09  1.439324e+09  273523615.0  212559417.0"
      ]
     },
     "execution_count": 13,
     "metadata": {},
     "output_type": "execute_result"
    }
   ],
   "source": [
    "df_pivot"
   ]
  },
  {
   "cell_type": "code",
   "execution_count": 14,
   "id": "8d093864",
   "metadata": {},
   "outputs": [],
   "source": [
    "#Selecting a few years\n",
    "\n",
    "df_pivot_sample = df_pivot[df_pivot.index.isin([1980, 1990, 2000, 2010, 2020])]"
   ]
  },
  {
   "cell_type": "code",
   "execution_count": 15,
   "id": "3475d26c",
   "metadata": {},
   "outputs": [
    {
     "data": {
      "text/plain": [
       "<AxesSubplot:xlabel='Year', ylabel='Population'>"
      ]
     },
     "execution_count": 15,
     "metadata": {},
     "output_type": "execute_result"
    },
    {
     "data": {
      "image/png": "[encoded data removed]",
      "text/plain": [
       "<Figure size 432x288 with 1 Axes>"
      ]
     },
     "metadata": {
      "needs_background": "light"
     },
     "output_type": "display_data"
    }
   ],
   "source": [
    "# Make a grouped Barlot\n",
    "\n",
    "df_pivot_sample.plot(kind='bar', xlabel='Year', ylabel='Population')"
   ]
  },
  {
   "cell_type": "markdown",
   "id": "f59b21bd",
   "metadata": {},
   "source": [
    "# Piechart"
   ]
  },
  {
   "cell_type": "code",
   "execution_count": 18,
   "id": "ed498f68",
   "metadata": {},
   "outputs": [],
   "source": [
    "# Changing the column name\n",
    "\n",
    "df_pivot_2020.rename(columns={2020: '2020'}, inplace = True)"
   ]
  },
  {
   "cell_type": "code",
   "execution_count": 20,
   "id": "21b5897a",
   "metadata": {},
   "outputs": [
    {
     "data": {
      "text/plain": [
       "<AxesSubplot:title={'center':'Population'}, ylabel='2020'>"
      ]
     },
     "execution_count": 20,
     "metadata": {},
     "output_type": "execute_result"
    },
    {
     "data": {
      "image/png": "[encoded data removed]",
      "text/plain": [
       "<Figure size 432x288 with 1 Axes>"
      ]
     },
     "metadata": {},
     "output_type": "display_data"
    }
   ],
   "source": [
    "#Making the plot\n",
    "df_pivot_2020.plot(kind='pie', y= '2020', title='Population')"
   ]
  },
  {
   "cell_type": "code",
   "execution_count": null,
   "id": "8988c747",
   "metadata": {},
   "outputs": [],
   "source": []
  }
 ],
 "metadata": {
  "kernelspec": {
   "display_name": "Python 3 (ipykernel)",
   "language": "python",
   "name": "python3"
  },
  "language_info": {
   "codemirror_mode": {
    "name": "ipython",
    "version": 3
   },
   "file_extension": ".py",
   "mimetype": "text/x-python",
   "name": "python",
   "nbconvert_exporter": "python",
   "pygments_lexer": "ipython3",
   "version": "3.9.12"
  }
 },
 "nbformat": 4,
 "nbformat_minor": 5
}
