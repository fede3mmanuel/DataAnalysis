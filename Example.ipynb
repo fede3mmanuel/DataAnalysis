{
 "cells": [
  {
   "cell_type": "markdown",
   "id": "ace97f74",
   "metadata": {},
   "source": [
    "# List"
   ]
  },
  {
   "cell_type": "code",
   "execution_count": 1,
   "id": "02addc5c",
   "metadata": {},
   "outputs": [],
   "source": [
    "contries = ['United States', 'India', 'China', 'Brasil']"
   ]
  },
  {
   "cell_type": "code",
   "execution_count": 2,
   "id": "fbd6b024",
   "metadata": {},
   "outputs": [
    {
     "data": {
      "text/plain": [
       "['United States', 'India', 'China', 'Brasil']"
      ]
     },
     "execution_count": 2,
     "metadata": {},
     "output_type": "execute_result"
    }
   ],
   "source": [
    "contries"
   ]
  },
  {
   "cell_type": "code",
   "execution_count": 4,
   "id": "e4c68c1d",
   "metadata": {},
   "outputs": [
    {
     "data": {
      "text/plain": [
       "'China'"
      ]
     },
     "execution_count": 4,
     "metadata": {},
     "output_type": "execute_result"
    }
   ],
   "source": [
    "contries[2]"
   ]
  },
  {
   "cell_type": "raw",
   "id": "5668eee9",
   "metadata": {},
   "source": [
    "contries[-1]"
   ]
  },
  {
   "cell_type": "code",
   "execution_count": 6,
   "id": "c2974b15",
   "metadata": {},
   "outputs": [
    {
     "name": "stdout",
     "output_type": "stream",
     "text": [
      "Brasil\n"
     ]
    }
   ],
   "source": [
    "print(contries[-1])"
   ]
  },
  {
   "cell_type": "code",
   "execution_count": 11,
   "id": "8e8697dc",
   "metadata": {},
   "outputs": [
    {
     "name": "stdout",
     "output_type": "stream",
     "text": [
      "['United States', 'India']\n"
     ]
    }
   ],
   "source": [
    "print(contries[:2])"
   ]
  },
  {
   "cell_type": "code",
   "execution_count": 12,
   "id": "44126d7c",
   "metadata": {},
   "outputs": [],
   "source": [
    "contries.append('Canada')"
   ]
  },
  {
   "cell_type": "code",
   "execution_count": 13,
   "id": "990e7f94",
   "metadata": {},
   "outputs": [
    {
     "name": "stdout",
     "output_type": "stream",
     "text": [
      "['United States', 'India', 'China', 'Brasil', 'Canada']\n"
     ]
    }
   ],
   "source": [
    "print(contries)"
   ]
  },
  {
   "cell_type": "code",
   "execution_count": 14,
   "id": "b5c7c812",
   "metadata": {},
   "outputs": [],
   "source": [
    "contries.insert(0, 'Spain')"
   ]
  },
  {
   "cell_type": "code",
   "execution_count": 15,
   "id": "77ec026b",
   "metadata": {},
   "outputs": [
    {
     "name": "stdout",
     "output_type": "stream",
     "text": [
      "['Spain', 'United States', 'India', 'China', 'Brasil', 'Canada']\n"
     ]
    }
   ],
   "source": [
    "print(contries)"
   ]
  },
  {
   "cell_type": "code",
   "execution_count": 16,
   "id": "aaf09672",
   "metadata": {},
   "outputs": [],
   "source": [
    "contries_2 = ['UK', 'Germany', 'Austria']"
   ]
  },
  {
   "cell_type": "code",
   "execution_count": 17,
   "id": "6aaec700",
   "metadata": {},
   "outputs": [
    {
     "data": {
      "text/plain": [
       "['Spain',\n",
       " 'United States',\n",
       " 'India',\n",
       " 'China',\n",
       " 'Brasil',\n",
       " 'Canada',\n",
       " 'UK',\n",
       " 'Germany',\n",
       " 'Austria']"
      ]
     },
     "execution_count": 17,
     "metadata": {},
     "output_type": "execute_result"
    }
   ],
   "source": [
    "contries + contries_2"
   ]
  },
  {
   "cell_type": "code",
   "execution_count": 18,
   "id": "73462e0a",
   "metadata": {},
   "outputs": [],
   "source": [
    "nested_list = [contries, contries_2]"
   ]
  },
  {
   "cell_type": "code",
   "execution_count": 19,
   "id": "a1f6e88b",
   "metadata": {},
   "outputs": [
    {
     "name": "stdout",
     "output_type": "stream",
     "text": [
      "[['Spain', 'United States', 'India', 'China', 'Brasil', 'Canada'], ['UK', 'Germany', 'Austria']]\n"
     ]
    }
   ],
   "source": [
    "print(nested_list)"
   ]
  },
  {
   "cell_type": "code",
   "execution_count": 20,
   "id": "cc4723f1",
   "metadata": {},
   "outputs": [],
   "source": [
    "contries.remove('United States')"
   ]
  },
  {
   "cell_type": "code",
   "execution_count": 21,
   "id": "a257004a",
   "metadata": {},
   "outputs": [
    {
     "name": "stdout",
     "output_type": "stream",
     "text": [
      "['Spain', 'India', 'China', 'Brasil', 'Canada']\n"
     ]
    }
   ],
   "source": [
    "print(contries)"
   ]
  },
  {
   "cell_type": "code",
   "execution_count": 22,
   "id": "76beff39",
   "metadata": {},
   "outputs": [
    {
     "data": {
      "text/plain": [
       "'Canada'"
      ]
     },
     "execution_count": 22,
     "metadata": {},
     "output_type": "execute_result"
    }
   ],
   "source": [
    "contries.pop(-1)"
   ]
  },
  {
   "cell_type": "code",
   "execution_count": 23,
   "id": "920519fb",
   "metadata": {},
   "outputs": [
    {
     "name": "stdout",
     "output_type": "stream",
     "text": [
      "['Spain', 'India', 'China', 'Brasil']\n"
     ]
    }
   ],
   "source": [
    "print(contries)"
   ]
  },
  {
   "cell_type": "code",
   "execution_count": 24,
   "id": "6e2ada1e",
   "metadata": {},
   "outputs": [],
   "source": [
    "del contries[0]"
   ]
  },
  {
   "cell_type": "code",
   "execution_count": 25,
   "id": "44f3475e",
   "metadata": {},
   "outputs": [
    {
     "name": "stdout",
     "output_type": "stream",
     "text": [
      "['India', 'China', 'Brasil']\n"
     ]
    }
   ],
   "source": [
    "print(contries)"
   ]
  },
  {
   "cell_type": "code",
   "execution_count": 26,
   "id": "dda0fa09",
   "metadata": {},
   "outputs": [],
   "source": [
    "numbers = [4, 3, 10, 7, 1, 2]"
   ]
  },
  {
   "cell_type": "code",
   "execution_count": 27,
   "id": "24807d1f",
   "metadata": {},
   "outputs": [],
   "source": [
    "numbers.sort()"
   ]
  },
  {
   "cell_type": "code",
   "execution_count": 28,
   "id": "12293395",
   "metadata": {},
   "outputs": [
    {
     "data": {
      "text/plain": [
       "[1, 2, 3, 4, 7, 10]"
      ]
     },
     "execution_count": 28,
     "metadata": {},
     "output_type": "execute_result"
    }
   ],
   "source": [
    "numbers"
   ]
  },
  {
   "cell_type": "code",
   "execution_count": 32,
   "id": "ddae5b1b",
   "metadata": {},
   "outputs": [],
   "source": [
    "numbers.sort(reverse=True)"
   ]
  },
  {
   "cell_type": "code",
   "execution_count": 33,
   "id": "c3d01f5a",
   "metadata": {},
   "outputs": [
    {
     "data": {
      "text/plain": [
       "[10, 7, 4, 3, 2, 1]"
      ]
     },
     "execution_count": 33,
     "metadata": {},
     "output_type": "execute_result"
    }
   ],
   "source": [
    "numbers"
   ]
  },
  {
   "cell_type": "code",
   "execution_count": 34,
   "id": "18eb729f",
   "metadata": {},
   "outputs": [],
   "source": [
    "numbers[0] = 1000"
   ]
  },
  {
   "cell_type": "code",
   "execution_count": 35,
   "id": "fd1df569",
   "metadata": {},
   "outputs": [
    {
     "data": {
      "text/plain": [
       "[1000, 7, 4, 3, 2, 1]"
      ]
     },
     "execution_count": 35,
     "metadata": {},
     "output_type": "execute_result"
    }
   ],
   "source": [
    "numbers"
   ]
  },
  {
   "cell_type": "code",
   "execution_count": 36,
   "id": "23a8f175",
   "metadata": {},
   "outputs": [
    {
     "data": {
      "text/plain": [
       "['India', 'China', 'Brasil']"
      ]
     },
     "execution_count": 36,
     "metadata": {},
     "output_type": "execute_result"
    }
   ],
   "source": [
    "contries[:]"
   ]
  },
  {
   "cell_type": "code",
   "execution_count": 38,
   "id": "3fef8702",
   "metadata": {},
   "outputs": [],
   "source": [
    "newlist = contries.copy()"
   ]
  },
  {
   "cell_type": "code",
   "execution_count": 39,
   "id": "a2ecf8cc",
   "metadata": {},
   "outputs": [
    {
     "data": {
      "text/plain": [
       "['India', 'China', 'Brasil']"
      ]
     },
     "execution_count": 39,
     "metadata": {},
     "output_type": "execute_result"
    }
   ],
   "source": [
    "newlist"
   ]
  },
  {
   "cell_type": "code",
   "execution_count": null,
   "id": "bd136d30",
   "metadata": {},
   "outputs": [],
   "source": []
  }
 ],
 "metadata": {
  "kernelspec": {
   "display_name": "Python 3 (ipykernel)",
   "language": "python",
   "name": "python3"
  },
  "language_info": {
   "codemirror_mode": {
    "name": "ipython",
    "version": 3
   },
   "file_extension": ".py",
   "mimetype": "text/x-python",
   "name": "python",
   "nbconvert_exporter": "python",
   "pygments_lexer": "ipython3",
   "version": "3.9.7"
  }
 },
 "nbformat": 4,
 "nbformat_minor": 5
}
