{
 "cells": [
  {
   "cell_type": "code",
   "execution_count": 1,
   "id": "5695bed5",
   "metadata": {},
   "outputs": [],
   "source": [
    "message1 = \"Hello\""
   ]
  },
  {
   "cell_type": "code",
   "execution_count": 2,
   "id": "72ec06d7",
   "metadata": {},
   "outputs": [],
   "source": [
    "message2 = \" world\""
   ]
  },
  {
   "cell_type": "code",
   "execution_count": 5,
   "id": "d285c78f",
   "metadata": {},
   "outputs": [],
   "source": [
    "message = message1 + message2\n"
   ]
  },
  {
   "cell_type": "code",
   "execution_count": 6,
   "id": "d75921c9",
   "metadata": {},
   "outputs": [
    {
     "data": {
      "text/plain": [
       "'Hello worldf or Hello world'"
      ]
     },
     "execution_count": 6,
     "metadata": {},
     "output_type": "execute_result"
    }
   ],
   "source": [
    "f'Hello worldf or {message}'"
   ]
  },
  {
   "cell_type": "code",
   "execution_count": null,
   "id": "40c4c286",
   "metadata": {},
   "outputs": [],
   "source": []
  }
 ],
 "metadata": {
  "kernelspec": {
   "display_name": "Python 3 (ipykernel)",
   "language": "python",
   "name": "python3"
  },
  "language_info": {
   "codemirror_mode": {
    "name": "ipython",
    "version": 3
   },
   "file_extension": ".py",
   "mimetype": "text/x-python",
   "name": "python",
   "nbconvert_exporter": "python",
   "pygments_lexer": "ipython3",
   "version": "3.9.7"
  }
 },
 "nbformat": 4,
 "nbformat_minor": 5
}
